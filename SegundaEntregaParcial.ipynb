{
  "nbformat": 4,
  "nbformat_minor": 0,
  "metadata": {
    "colab": {
      "provenance": [],
      "include_colab_link": true
    },
    "kernelspec": {
      "name": "python3",
      "display_name": "Python 3"
    },
    "language_info": {
      "name": "python"
    }
  },
  "cells": [
    {
      "cell_type": "markdown",
      "metadata": {
        "id": "view-in-github",
        "colab_type": "text"
      },
      "source": [
        "<a href=\"https://colab.research.google.com/github/Blinded4545/Actividad-evaluativa-monticulos/blob/master/SegundaEntregaParcial.ipynb\" target=\"_parent\"><img src=\"https://colab.research.google.com/assets/colab-badge.svg\" alt=\"Open In Colab\"/></a>"
      ]
    },
    {
      "cell_type": "code",
      "source": [
        "#REQUERIMENTOS\n",
        "#Crear un arbol binario de busqueda para ordenar a los empleados\n",
        "#El empleado debe poder mostrar su informacion\n",
        "!pip install bigtree #Instalacion del package bigtree\n",
        "\n",
        "class Employee:\n",
        "  def __init__(self, Nombre, Apellido, Email, Telefono, Especialidad, Cedula, Horas):\n",
        "      self.Nombre = Nombre\n",
        "      self.Apellido = Apellido\n",
        "      self.Email = Email\n",
        "      self.Telefono = Telefono\n",
        "      self.Especialidad = Especialidad\n",
        "      self.Cedula = Cedula\n",
        "      self.Horas = Horas\n",
        "      self.Salario = 5800\n",
        "      self.siguiente = None\n",
        "\n",
        "  def CalcularSalario(self):\n",
        "     return self.Horas*self.Salario\n",
        "\n",
        "  def getInfo(self):\n",
        "\n",
        "      return (f\"\"\"Empleado:\n",
        "                  Nombre: {self.Nombre}\n",
        "                  Apellido: {self.Apellido}\n",
        "                  Email: {self.Email}\n",
        "                  Especialidad: {self.Especialidad}\n",
        "                  Documento de identidad: {self.Cedula}\n",
        "                  Horas asignadas: {self.Horas}\n",
        "                  Salario: {self.CalcularSalario()}\n",
        "              \"\"\")\n",
        "class Arbol:\n",
        "  def __init__(self)\n",
        "\n"
      ],
      "metadata": {
        "id": "4S0dfdJGQwDG"
      },
      "execution_count": null,
      "outputs": []
    },
    {
      "cell_type": "code",
      "source": [
        "#ESPACIO DE PRUEBA\n",
        "!pip install bigtree\n",
        "from bigtree import str_to_tree\n",
        "\n",
        "tree_str = \"\"\n",
        "root = str_to_tree(tree_str)"
      ],
      "metadata": {
        "colab": {
          "base_uri": "https://localhost:8080/",
          "height": 408
        },
        "id": "x6dKCPRpR7Pv",
        "outputId": "f7e5d52a-d962-48e7-a8ee-eb9eeff9550b"
      },
      "execution_count": null,
      "outputs": [
        {
          "output_type": "stream",
          "name": "stdout",
          "text": [
            "Collecting bigtree\n",
            "  Downloading bigtree-0.17.2-py3-none-any.whl (74 kB)\n",
            "\u001b[?25l     \u001b[90m━━━━━━━━━━━━━━━━━━━━━━━━━━━━━━━━━━━━━━━━\u001b[0m \u001b[32m0.0/74.6 kB\u001b[0m \u001b[31m?\u001b[0m eta \u001b[36m-:--:--\u001b[0m\r\u001b[2K     \u001b[90m━━━━━━━━━━━━━━━━━━━━━━━━━━━━━━━━━━━━━━━━\u001b[0m \u001b[32m74.6/74.6 kB\u001b[0m \u001b[31m2.1 MB/s\u001b[0m eta \u001b[36m0:00:00\u001b[0m\n",
            "\u001b[?25hInstalling collected packages: bigtree\n",
            "Successfully installed bigtree-0.17.2\n"
          ]
        },
        {
          "output_type": "error",
          "ename": "ValueError",
          "evalue": "Tree string does not contain any data, check `tree_string`",
          "traceback": [
            "\u001b[0;31m---------------------------------------------------------------------------\u001b[0m",
            "\u001b[0;31mValueError\u001b[0m                                Traceback (most recent call last)",
            "\u001b[0;32m<ipython-input-5-eb108f46e67d>\u001b[0m in \u001b[0;36m<cell line: 6>\u001b[0;34m()\u001b[0m\n\u001b[1;32m      4\u001b[0m \u001b[0;34m\u001b[0m\u001b[0m\n\u001b[1;32m      5\u001b[0m \u001b[0mtree_str\u001b[0m \u001b[0;34m=\u001b[0m \u001b[0;34m\"\"\u001b[0m\u001b[0;34m\u001b[0m\u001b[0;34m\u001b[0m\u001b[0m\n\u001b[0;32m----> 6\u001b[0;31m \u001b[0mroot\u001b[0m \u001b[0;34m=\u001b[0m \u001b[0mstr_to_tree\u001b[0m\u001b[0;34m(\u001b[0m\u001b[0mtree_str\u001b[0m\u001b[0;34m)\u001b[0m\u001b[0;34m\u001b[0m\u001b[0;34m\u001b[0m\u001b[0m\n\u001b[0m",
            "\u001b[0;32m/usr/local/lib/python3.10/dist-packages/bigtree/tree/construct.py\u001b[0m in \u001b[0;36mstr_to_tree\u001b[0;34m(tree_string, tree_prefix_list, node_type)\u001b[0m\n\u001b[1;32m    440\u001b[0m     \"\"\"\n\u001b[1;32m    441\u001b[0m     \u001b[0mtree_string\u001b[0m \u001b[0;34m=\u001b[0m \u001b[0mtree_string\u001b[0m\u001b[0;34m.\u001b[0m\u001b[0mstrip\u001b[0m\u001b[0;34m(\u001b[0m\u001b[0;34m\"\\n\"\u001b[0m\u001b[0;34m)\u001b[0m\u001b[0;34m\u001b[0m\u001b[0;34m\u001b[0m\u001b[0m\n\u001b[0;32m--> 442\u001b[0;31m     \u001b[0massert_length_not_empty\u001b[0m\u001b[0;34m(\u001b[0m\u001b[0mtree_string\u001b[0m\u001b[0;34m,\u001b[0m \u001b[0;34m\"Tree string\"\u001b[0m\u001b[0;34m,\u001b[0m \u001b[0;34m\"tree_string\"\u001b[0m\u001b[0;34m)\u001b[0m\u001b[0;34m\u001b[0m\u001b[0;34m\u001b[0m\u001b[0m\n\u001b[0m\u001b[1;32m    443\u001b[0m     \u001b[0mtree_list\u001b[0m \u001b[0;34m=\u001b[0m \u001b[0mtree_string\u001b[0m\u001b[0;34m.\u001b[0m\u001b[0msplit\u001b[0m\u001b[0;34m(\u001b[0m\u001b[0;34m\"\\n\"\u001b[0m\u001b[0;34m)\u001b[0m\u001b[0;34m\u001b[0m\u001b[0;34m\u001b[0m\u001b[0m\n\u001b[1;32m    444\u001b[0m     \u001b[0mroot_node\u001b[0m \u001b[0;34m=\u001b[0m \u001b[0mnode_type\u001b[0m\u001b[0;34m(\u001b[0m\u001b[0mtree_list\u001b[0m\u001b[0;34m[\u001b[0m\u001b[0;36m0\u001b[0m\u001b[0;34m]\u001b[0m\u001b[0;34m)\u001b[0m\u001b[0;34m\u001b[0m\u001b[0;34m\u001b[0m\u001b[0m\n",
            "\u001b[0;32m/usr/local/lib/python3.10/dist-packages/bigtree/utils/assertions.py\u001b[0m in \u001b[0;36massert_length_not_empty\u001b[0;34m(data, argument_name, argument)\u001b[0m\n\u001b[1;32m    103\u001b[0m     \"\"\"\n\u001b[1;32m    104\u001b[0m     \u001b[0;32mif\u001b[0m \u001b[0;32mnot\u001b[0m \u001b[0mlen\u001b[0m\u001b[0;34m(\u001b[0m\u001b[0mdata\u001b[0m\u001b[0;34m)\u001b[0m\u001b[0;34m:\u001b[0m\u001b[0;34m\u001b[0m\u001b[0;34m\u001b[0m\u001b[0m\n\u001b[0;32m--> 105\u001b[0;31m         raise ValueError(\n\u001b[0m\u001b[1;32m    106\u001b[0m             \u001b[0;34mf\"{argument_name} does not contain any data, check `{argument}`\"\u001b[0m\u001b[0;34m\u001b[0m\u001b[0;34m\u001b[0m\u001b[0m\n\u001b[1;32m    107\u001b[0m         )\n",
            "\u001b[0;31mValueError\u001b[0m: Tree string does not contain any data, check `tree_string`"
          ]
        }
      ]
    }
  ]
}